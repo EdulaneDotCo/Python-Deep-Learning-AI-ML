{
 "cells": [
  {
   "cell_type": "markdown",
   "metadata": {},
   "source": [
    "# Basic Syntax\n",
    "#### Python syntax is designed to be readable and straightforward. Here are some fundamental elements:"
   ]
  },
  {
   "cell_type": "markdown",
   "metadata": {},
   "source": [
    "### 1. Print Statement\n",
    "<p>The Python <b>print</b> statement is a built-in function that outputs text and other data types to the console or terminal. It's commonly used for displaying information, debugging, and communicating with users. Here’s a detailed explanation of its usage and features:</p>"
   ]
  },
  {
   "cell_type": "markdown",
   "metadata": {},
   "source": [
    "### Basic Usage"
   ]
  },
  {
   "cell_type": "markdown",
   "metadata": {},
   "source": [
    "<p>The <strong>print()</strong> function takes one or more arguments and prints them to the standard output (usually the console).</p>"
   ]
  },
  {
   "cell_type": "code",
   "execution_count": null,
   "metadata": {},
   "outputs": [
    {
     "name": "stdout",
     "output_type": "stream",
     "text": [
      "Hello, World!\n"
     ]
    }
   ],
   "source": [
    "print(\"Hello, World!\")"
   ]
  },
  {
   "cell_type": "markdown",
   "metadata": {},
   "source": [
    "### Arguments\n",
    "1. <b>Strings and Numbers:</b>\n",
    "<p>You can print both strings and numbers.</p>"
   ]
  },
  {
   "cell_type": "code",
   "execution_count": null,
   "metadata": {},
   "outputs": [
    {
     "name": "stdout",
     "output_type": "stream",
     "text": [
      "Age: 25\n"
     ]
    }
   ],
   "source": [
    "print(\"Age:\", 25)"
   ]
  },
  {
   "cell_type": "markdown",
   "metadata": {},
   "source": [
    "2. <b>Multiple Arguments:</b>\n",
    "   <p>When multiple arguments are passed, they are separated by a space by default.</p>"
   ]
  },
  {
   "cell_type": "code",
   "execution_count": null,
   "metadata": {},
   "outputs": [
    {
     "name": "stdout",
     "output_type": "stream",
     "text": [
      "Name: Alice Age: 25\n"
     ]
    }
   ],
   "source": [
    "print(\"Name:\", \"Alice\", \"Age:\", 25)"
   ]
  },
  {
   "cell_type": "markdown",
   "metadata": {},
   "source": [
    "3. <b>String Formatting:</b>\n",
    "   <p>You can format strings using f-strings (formatted string literals) for more complex outputs.</p>"
   ]
  },
  {
   "cell_type": "code",
   "execution_count": null,
   "metadata": {},
   "outputs": [
    {
     "name": "stdout",
     "output_type": "stream",
     "text": [
      "Name: Alice, Age: 25\n"
     ]
    }
   ],
   "source": [
    "name = \"Alice\"\n",
    "age = 25\n",
    "print(f\"Name: {name}, Age: {age}\")"
   ]
  },
  {
   "cell_type": "markdown",
   "metadata": {},
   "source": [
    "### Optional Parameters\n",
    "<p>The <b>print()</b> function has several optional parameters that can customize its behavior.</p>"
   ]
  },
  {
   "cell_type": "markdown",
   "metadata": {},
   "source": [
    "1. <b>sep:</b> Specifies the separator between multiple arguments. The default is a space."
   ]
  },
  {
   "cell_type": "code",
   "execution_count": null,
   "metadata": {},
   "outputs": [
    {
     "name": "stdout",
     "output_type": "stream",
     "text": [
      "Name:, Alice, Age:, 25\n"
     ]
    }
   ],
   "source": [
    "print(\"Name:\", \"Alice\", \"Age:\", 25, sep=\", \")"
   ]
  },
  {
   "cell_type": "markdown",
   "metadata": {},
   "source": [
    "2. <b>end:</b> Specifies what to print at the end of the output. The default is a newline character (<b>\\n</b>)."
   ]
  },
  {
   "cell_type": "code",
   "execution_count": null,
   "metadata": {},
   "outputs": [
    {
     "name": "stdout",
     "output_type": "stream",
     "text": [
      "Hello, World!***Next line starts here.\n"
     ]
    }
   ],
   "source": [
    "print(\"Hello, World!\", end=\"***\")\n",
    "print(\"Next line starts here.\")"
   ]
  },
  {
   "cell_type": "markdown",
   "metadata": {},
   "source": [
    "3. <b>file:</b> Specifies the file or stream where the output should be written. The default is <b>sys.stdout.</b>"
   ]
  },
  {
   "cell_type": "code",
   "execution_count": null,
   "metadata": {},
   "outputs": [],
   "source": [
    "with open(\"output.txt\", \"w\") as file:\n",
    "    print(\"Hello, File!\", file=file)\n"
   ]
  },
  {
   "cell_type": "markdown",
   "metadata": {},
   "source": [
    "4. <b>flush:</b> A boolean that specifies whether the output should be flushed (i.e., forcibly written out) immediately. The default is <b>False.</b>"
   ]
  },
  {
   "cell_type": "code",
   "execution_count": null,
   "metadata": {},
   "outputs": [
    {
     "name": "stdout",
     "output_type": "stream",
     "text": [
      "Loading........"
     ]
    }
   ],
   "source": [
    "import time\n",
    "import sys\n",
    "\n",
    "print(\"Loading...\", end=\"\", flush=True)\n",
    "for i in range(5):\n",
    "    time.sleep(1)\n",
    "    print(\".\", end=\"\", flush=True)"
   ]
  },
  {
   "cell_type": "markdown",
   "metadata": {},
   "source": [
    "### Advanced Usage\n",
    "1. <b>Combining with Escape Characters:</b>"
   ]
  },
  {
   "cell_type": "markdown",
   "metadata": {},
   "source": [
    "Escape characters like <b>\\n</b> (newline) and <b>\\t</b> (tab) can be used within strings."
   ]
  },
  {
   "cell_type": "code",
   "execution_count": null,
   "metadata": {},
   "outputs": [
    {
     "name": "stdout",
     "output_type": "stream",
     "text": [
      "Line 1\n",
      "Line 2\n",
      "Column 1\tColumn 2\n"
     ]
    }
   ],
   "source": [
    "print(\"Line 1\\nLine 2\")\n",
    "print(\"Column 1\\tColumn 2\")"
   ]
  },
  {
   "cell_type": "markdown",
   "metadata": {},
   "source": [
    "2. <b>Printing Special Characters:</b>\n",
    "<p>Use backslashes (<b>\\</b>) to escape special characters or use raw strings (prefix with <b>r</b>).</p>"
   ]
  },
  {
   "cell_type": "code",
   "execution_count": null,
   "metadata": {},
   "outputs": [
    {
     "name": "stdout",
     "output_type": "stream",
     "text": [
      "This is a backslash: \\\n",
      "This is a raw string with a backslash: \\ \n"
     ]
    }
   ],
   "source": [
    "print(\"This is a backslash: \\\\\")\n",
    "print(r\"This is a raw string with a backslash: \\ \")"
   ]
  },
  {
   "cell_type": "markdown",
   "metadata": {},
   "source": [
    "3. <b>Printing with Unicode Characters:</b>\n",
    "<p>Unicode characters can be printed directly or using their escape codes.</p>"
   ]
  },
  {
   "cell_type": "code",
   "execution_count": null,
   "metadata": {},
   "outputs": [
    {
     "name": "stdout",
     "output_type": "stream",
     "text": [
      "Unicode: Ω\n"
     ]
    }
   ],
   "source": [
    "print(\"Unicode: \\u03A9\")  # Prints the Greek letter Omega"
   ]
  },
  {
   "cell_type": "markdown",
   "metadata": {},
   "source": [
    "### Example Code\n",
    "<p>Here's a comprehensive example demonstrating various <b>print()</b> functionalities:</p>"
   ]
  },
  {
   "cell_type": "code",
   "execution_count": null,
   "metadata": {},
   "outputs": [
    {
     "name": "stdout",
     "output_type": "stream",
     "text": [
      "Hello, World!\n",
      "Name: Alice Age: 25\n",
      "Name: Alice, Age: 25\n",
      "Name:, Alice, Age:, 25.\n",
      "Loading........Line 1\n",
      "Line 2\n",
      "Column 1\tColumn 2\n",
      "This is a backslash: \\\n",
      "This is a raw string with a backslash: \\ \n",
      "Unicode: Ω\n"
     ]
    }
   ],
   "source": [
    "# Basic usage\n",
    "print(\"Hello, World!\")\n",
    "\n",
    "# Multiple arguments\n",
    "print(\"Name:\", \"Alice\", \"Age:\", 25)\n",
    "\n",
    "# String formatting\n",
    "name = \"Alice\"\n",
    "age = 25\n",
    "print(f\"Name: {name}, Age: {age}\")\n",
    "\n",
    "# Using sep and end parameters\n",
    "print(\"Name:\", \"Alice\", \"Age:\", 25, sep=\", \", end=\".\\n\")\n",
    "\n",
    "# Writing to a file\n",
    "with open(\"output.txt\", \"w\") as file:\n",
    "    print(\"Hello, File!\", file=file)\n",
    "\n",
    "# Flush example\n",
    "import time\n",
    "print(\"Loading...\", end=\"\", flush=True)\n",
    "for i in range(5):\n",
    "    time.sleep(1)\n",
    "    print(\".\", end=\"\", flush=True)\n",
    "\n",
    "# Escape characters\n",
    "print(\"Line 1\\nLine 2\")\n",
    "print(\"Column 1\\tColumn 2\")\n",
    "\n",
    "# Special characters\n",
    "print(\"This is a backslash: \\\\\")\n",
    "print(r\"This is a raw string with a backslash: \\ \")\n",
    "\n",
    "# Unicode characters\n",
    "print(\"Unicode: \\u03A9\")"
   ]
  },
  {
   "cell_type": "markdown",
   "metadata": {},
   "source": [
    "Understanding the <b>print()</b> function and its parameters can greatly enhance your ability to output information in a clear and formatted manner."
   ]
  }
 ],
 "metadata": {
  "kernelspec": {
   "display_name": "Python 3",
   "language": "python",
   "name": "python3"
  },
  "language_info": {
   "codemirror_mode": {
    "name": "ipython",
    "version": 3
   },
   "file_extension": ".py",
   "mimetype": "text/x-python",
   "name": "python",
   "nbconvert_exporter": "python",
   "pygments_lexer": "ipython3",
   "version": "3.12.3"
  }
 },
 "nbformat": 4,
 "nbformat_minor": 2
}
